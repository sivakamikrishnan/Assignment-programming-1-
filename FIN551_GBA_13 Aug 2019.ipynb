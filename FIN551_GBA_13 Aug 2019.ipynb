{
 "cells": [
  {
   "cell_type": "code",
   "execution_count": 4,
   "metadata": {},
   "outputs": [
    {
     "name": "stdout",
     "output_type": "stream",
     "text": [
      "[2, 0, 9, 7, 2]\n",
      "[2, 7, 7, 3, 0]\n",
      "[8, 6, 7, 6, 9]\n",
      "[1, 3, 4, 7, 2]\n",
      "[3, 10, 11, 8, 8]\n",
      "[2, 2, 1, 3, 1]\n",
      "[2, 0, 9, 7, 2]\n",
      "[2, 7, 7, 3, 0]\n",
      "[8, 6, 7, 6, 9]\n",
      "[1, 3, 4, 7, 2]\n",
      "[3, 10, 11, 8, 8]\n",
      "[2, 2, 1, 3, 1]\n",
      "[9, 3, 5, 1, 1]\n",
      "[5, 7, 4, 4, 3]\n",
      "[5, 20, 20, 4, 21]\n",
      "[2, 0, 0, 0, 0]\n"
     ]
    }
   ],
   "source": [
    "import math\n",
    "def calculate_quotient_and_remainder(y, d):\n",
    " quo = []\n",
    " rem = []\n",
    " for x in y:\n",
    "    quo.append(int(x/d))\n",
    "    rem.append(x % d)\n",
    " return quo,rem\n",
    "\n",
    "q,r = calculate_quotient_and_remainder([20, 7, 88, 66, 18],9)\n",
    "print(q)\n",
    "print(r)\n",
    "q,r = calculate_quotient_and_remainder([73, 57, 67, 61, 83],9)\n",
    "print(q)\n",
    "print(r)\n",
    "q,r = calculate_quotient_and_remainder([14, 42, 45, 35, 33],4)\n",
    "print(q)\n",
    "print(r)\n",
    "q,r = calculate_quotient_and_remainder([20, 7, 88, 66, 18],9)\n",
    "print(q)\n",
    "print(r)\n",
    "q,r = calculate_quotient_and_remainder([73, 57, 67, 61, 83],9)\n",
    "print(q)\n",
    "print(r)\n",
    "\n",
    "q,r = calculate_quotient_and_remainder([14,42,45,35,33],4)\n",
    "print(q)\n",
    "print(r)\n",
    "\n",
    "\n",
    "q,r = calculate_quotient_and_remainder([77,31,44,12,11],8)\n",
    "print(q)\n",
    "print(r)\n",
    "\n",
    "q,r = calculate_quotient_and_remainder([22,80,80,16,84],4)\n",
    "print(q)\n",
    "print(r)"
   ]
  },
  {
   "cell_type": "code",
   "execution_count": null,
   "metadata": {},
   "outputs": [],
   "source": [
    "loan_amount=1000000\n",
    "interest_rate_per_month= 1.5/12/100\n",
    "years=10\n",
    "num_payments=120"
   ]
  },
  {
   "cell_type": "code",
   "execution_count": 60,
   "metadata": {},
   "outputs": [
    {
     "name": "stdout",
     "output_type": "stream",
     "text": [
      "9.222184551854381\n",
      "108434.17786503976\n",
      "Total amount to be repaid is $108,434\n",
      "-891565.8221349602\n"
     ]
    }
   ],
   "source": [
    "#Loan payment = Loan amount / Discount factor\n",
    "#Number of Periodic Payments (n) = Payments per year times number of years\n",
    "#Periodic Interest Rate (i) = Annual rate divided by number of payments per\n",
    "#d represents the discount factor\n",
    "\n",
    "n=10\n",
    "i=0.015\n",
    "\n",
    "d = ((1 + i)**n - 1) / (i*(1 + i)**n)\n",
    "print(d)\n",
    "\n",
    "L=1000000\n",
    "d = ((1 + i)**n - 1) / (i*(1 + i)**n)\n",
    "Loan_Payment=L/d\n",
    "print(Loan_Payment)\n",
    "\n",
    "\n",
    "print(\"Total amount to be repaid is ${:,.0f}\".format(Loan_Payment))\n",
    "\n",
    "Total_Interest = Loan_Payment -L\n",
    "print(Total_Interest)"
   ]
  },
  {
   "cell_type": "code",
   "execution_count": 75,
   "metadata": {},
   "outputs": [
    {
     "name": "stdout",
     "output_type": "stream",
     "text": [
      "Total amount to be repaid is $1,084,342\n",
      "Total amount of interest to be paid is $84,342\n"
     ]
    }
   ],
   "source": [
    "#reference-https://www.daniweb.com/programming/software-development/code/448171/a-simple-mortgage-calculator\n",
    "    \n",
    "\n",
    "import math\n",
    "\n",
    "def calc_mortgage(principal,interest,years):\n",
    "    interest_rate=interest/(100)\n",
    "    payment_num=years\n",
    "    payment =principal * \\\n",
    "        (interest_rate/(1-math.pow((1+interest_rate), (-payment_num))))\n",
    "    return payment\n",
    "\n",
    "# mortgage loan principal\n",
    "principal = 1000000\n",
    "# percent annual interest\n",
    "interest = 1.5\n",
    "# years to pay off mortgage\n",
    "years = 10\n",
    "# calculate yearly payment amount\n",
    "Yearly_payment = calc_mortgage(principal, interest, years)\n",
    "# calculate total amount paid\n",
    "total_amount = Yearly_payment * years\n",
    "total_interest=total_amount-principal\n",
    "\n",
    "print(\"Total amount to be repaid is ${:,.0f}\".format(total_amount))\n",
    "print(\"Total amount of interest to be paid is ${:,.0f}\".format(total_interest))\n"
   ]
  },
  {
   "cell_type": "code",
   "execution_count": 79,
   "metadata": {},
   "outputs": [
    {
     "name": "stdout",
     "output_type": "stream",
     "text": [
      "Total amount to be repaid is $4,994,784\n",
      "Total amount of interest to be paid is $3,863,784\n"
     ]
    }
   ],
   "source": [
    "import math \n",
    "\n",
    "#Test 1 -($1,131,000, 15, quarterly, 29%)\n",
    "\n",
    "def calc_mortgage(principal,interest,years):\n",
    "    interest_rate=interest/(100*4)\n",
    "    payment_num=years*4\n",
    "    payment =principal * \\\n",
    "        (interest_rate/(1-math.pow((1+interest_rate), (-payment_num))))\n",
    "    return payment\n",
    "\n",
    "\n",
    "# mortgage loan principal\n",
    "principal = 1131000\n",
    "# percent annual interest\n",
    "interest = 29\n",
    "# years to pay off mortgage\n",
    "years = 15\n",
    "# calculate quarterly payment amount\n",
    "Quarterly_payment = calc_mortgage(principal, interest, years)\n",
    "# calculate total amount paid\n",
    "total_amount = Quarterly_payment * years*4\n",
    "total_interest=total_amount-principal\n",
    "\n",
    "print(\"Total amount to be repaid is ${:,.0f}\".format(total_amount))\n",
    "print(\"Total amount of interest to be paid is ${:,.0f}\".format(total_interest))\n"
   ]
  },
  {
   "cell_type": "code",
   "execution_count": 78,
   "metadata": {},
   "outputs": [
    {
     "name": "stdout",
     "output_type": "stream",
     "text": [
      "Total amount to be repaid is $252,232\n",
      "Total amount of interest to be paid is $130,232\n"
     ]
    }
   ],
   "source": [
    "import math \n",
    "\n",
    "#Test 2 ($122,000, 21, monthly, 8%)\n",
    "\n",
    "def calc_mortgage(principal,interest,years):\n",
    "    interest_rate=interest/(100*12)\n",
    "    payment_num=years*12\n",
    "    payment =principal * \\\n",
    "        (interest_rate/(1-math.pow((1+interest_rate), (-payment_num))))\n",
    "    return payment\n",
    "\n",
    "\n",
    "# mortgage loan principal\n",
    "principal = 122000\n",
    "# percent annual interest\n",
    "interest = 8\n",
    "# years to pay off mortgage\n",
    "years = 21\n",
    "# calculate monthly payment amount\n",
    "monthly_payment = calc_mortgage(principal, interest, years)\n",
    "# calculate total amount paid\n",
    "total_amount = monthly_payment * years*12\n",
    "total_interest=total_amount-principal\n",
    "\n",
    "print(\"Total amount to be repaid is ${:,.0f}\".format(total_amount))\n",
    "print(\"Total amount of interest to be paid is ${:,.0f}\".format(total_interest))\n"
   ]
  },
  {
   "cell_type": "code",
   "execution_count": 72,
   "metadata": {},
   "outputs": [
    {
     "name": "stdout",
     "output_type": "stream",
     "text": [
      "Total amount to be repaid is $1,473,432\n",
      "Total amount to be repaid is $1,142,432\n"
     ]
    }
   ],
   "source": [
    "#Test case 3 - ($331,000, 23, yearly, 19%)\n",
    "\n",
    "import math\n",
    "\n",
    "def calc_mortgage(principal,interest,years):\n",
    "    interest_rate=interest/(100)\n",
    "    payment_num=years\n",
    "    payment =principal * \\\n",
    "        (interest_rate/(1-math.pow((1+interest_rate), (-payment_num))))\n",
    "    return payment\n",
    "\n",
    "# mortgage loan principal\n",
    "principal = 331000\n",
    "# percent annual interest\n",
    "interest = 19\n",
    "# years to pay off mortgage\n",
    "years = 23\n",
    "# calculate yearly payment amount\n",
    "Yearly_payment = calc_mortgage(principal, interest, years)\n",
    "# calculate total amount paid\n",
    "total_amount = Yearly_payment * years\n",
    "total_interest=total_amount-principal\n",
    "\n",
    "print(\"Total amount to be repaid is ${:,.0f}\".format(total_amount))\n",
    "print(\"Total amount of interest to be paid is ${:,.0f}\".format(total_interest))"
   ]
  },
  {
   "cell_type": "code",
   "execution_count": 80,
   "metadata": {},
   "outputs": [
    {
     "name": "stdout",
     "output_type": "stream",
     "text": [
      "Total amount to be repaid is $3,975,187\n",
      "Total amount to be repaid is $2,578,187\n"
     ]
    }
   ],
   "source": [
    "#Test case 4 - ($1,397,000, 24, monthly, 11%)\n",
    "\n",
    "import math \n",
    "\n",
    "def calc_mortgage(principal,interest,years):\n",
    "    interest_rate=interest/(100*12)\n",
    "    payment_num=years*12\n",
    "    payment =principal * \\\n",
    "        (interest_rate/(1-math.pow((1+interest_rate), (-payment_num))))\n",
    "    return payment\n",
    "\n",
    "\n",
    "# mortgage loan principal\n",
    "principal = 1397000\n",
    "# percent annual interest\n",
    "interest =11\n",
    "# years to pay off mortgage\n",
    "years = 24\n",
    "# calculate monthly payment amount\n",
    "monthly_payment = calc_mortgage(principal, interest, years)\n",
    "# calculate total amount paid\n",
    "total_amount = monthly_payment * years*12\n",
    "total_interest=total_amount-principal\n",
    "\n",
    "print(\"Total amount to be repaid is ${:,.0f}\".format(total_amount))\n",
    "print(\"Total amount of interest to be paid is ${:,.0f}\".format(total_interest))\n"
   ]
  },
  {
   "cell_type": "code",
   "execution_count": 81,
   "metadata": {},
   "outputs": [
    {
     "name": "stdout",
     "output_type": "stream",
     "text": [
      "Total amount to be repaid is $178,916\n",
      "Total amount of interest to be paid is $53,916\n"
     ]
    }
   ],
   "source": [
    "#Test case 5 - ($125,000, 3, quarterly, 24%)\n",
    "\n",
    "import math \n",
    "\n",
    "def calc_mortgage(principal,interest,years):\n",
    "    interest_rate=interest/(100*4)\n",
    "    payment_num=years*4\n",
    "    payment =principal * \\\n",
    "        (interest_rate/(1-math.pow((1+interest_rate), (-payment_num))))\n",
    "    return payment\n",
    "\n",
    "\n",
    "# mortgage loan principal\n",
    "principal = 125000\n",
    "# percent annual interest\n",
    "interest = 24\n",
    "# years to pay off mortgage\n",
    "years = 3\n",
    "# calculate quarterly payment amount\n",
    "Quarterly_payment = calc_mortgage(principal, interest, years)\n",
    "# calculate total amount paid\n",
    "total_amount = Quarterly_payment * years*4\n",
    "total_interest=total_amount-principal\n",
    "\n",
    "print(\"Total amount to be repaid is ${:,.0f}\".format(total_amount))\n",
    "print(\"Total amount of interest to be paid is ${:,.0f}\".format(total_interest))\n"
   ]
  },
  {
   "cell_type": "code",
   "execution_count": null,
   "metadata": {},
   "outputs": [],
   "source": []
  }
 ],
 "metadata": {
  "kernelspec": {
   "display_name": "Python 3",
   "language": "python",
   "name": "python3"
  },
  "language_info": {
   "codemirror_mode": {
    "name": "ipython",
    "version": 3
   },
   "file_extension": ".py",
   "mimetype": "text/x-python",
   "name": "python",
   "nbconvert_exporter": "python",
   "pygments_lexer": "ipython3",
   "version": "3.7.3"
  }
 },
 "nbformat": 4,
 "nbformat_minor": 2
}
